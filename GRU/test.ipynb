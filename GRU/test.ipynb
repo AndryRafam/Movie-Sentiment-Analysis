{
 "cells": [
  {
   "cell_type": "code",
   "execution_count": 1,
   "id": "4f4fee2f",
   "metadata": {},
   "outputs": [
    {
     "name": "stdout",
     "output_type": "stream",
     "text": [
      "\n",
      "❯❯ If you are looking for a good, realistic and captivating action movie, this is the one you should definitely watch.\n",
      "\n",
      "\n",
      "\n",
      "\n",
      "Positive (97.10 %)\n"
     ]
    }
   ],
   "source": [
    "import tensorflow as tf\n",
    "from tensorflow.keras.preprocessing.sequence import pad_sequences\n",
    "from tensorflow.keras.preprocessing.text import Tokenizer\n",
    "import numpy as np\n",
    "import pickle\n",
    "\n",
    "max_words = 20000\n",
    "max_len = 200\n",
    "\n",
    "model_best = tf.keras.models.load_model(\"model_gru.hdf5\")\n",
    "sentiment = [\"Negative\",\"Positive\"]\n",
    "\n",
    "with open(\"tokenizer.pickle\",\"rb\") as handle:\n",
    "\ttokenizer = pickle.load(handle)\n",
    "\n",
    "string = input(\"\\n❯❯ \")\n",
    "print(\"\\n\")\n",
    "sequence = tokenizer.texts_to_sequences([string])\n",
    "test = pad_sequences(sequence,maxlen=max_len)\n",
    "predictions_data1= model_best.predict(test)\n",
    "score_data1 = predictions_data1[0]\n",
    "print(\"\\n\")\n",
    "print(\"{} ({:.2f} %)\".format(sentiment[np.around(model_best(test),decimals=0).argmax(axis=1)[0]],100*np.max(score_data1)))"
   ]
  },
  {
   "cell_type": "code",
   "execution_count": null,
   "id": "29908d6e",
   "metadata": {},
   "outputs": [],
   "source": []
  }
 ],
 "metadata": {
  "kernelspec": {
   "display_name": "Python 3",
   "language": "python",
   "name": "python3"
  },
  "language_info": {
   "codemirror_mode": {
    "name": "ipython",
    "version": 3
   },
   "file_extension": ".py",
   "mimetype": "text/x-python",
   "name": "python",
   "nbconvert_exporter": "python",
   "pygments_lexer": "ipython3",
   "version": "3.8.10"
  }
 },
 "nbformat": 4,
 "nbformat_minor": 5
}
